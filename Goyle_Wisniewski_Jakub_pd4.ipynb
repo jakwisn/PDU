{
 "cells": [
  {
   "cell_type": "markdown",
   "metadata": {},
   "source": [
    "# Praca domowa numer 4"
   ]
  },
  {
   "cell_type": "markdown",
   "metadata": {},
   "source": [
    "## zadanie 0 - wczytanie funkcji"
   ]
  },
  {
   "cell_type": "code",
   "execution_count": 1,
   "metadata": {},
   "outputs": [],
   "source": [
    "import pandas as pd\n",
    "import numpy as np\n",
    "import sqlite3\n",
    "import tempfile\n",
    "import os\n",
    "import sqlite3"
   ]
  },
  {
   "cell_type": "code",
   "execution_count": 2,
   "metadata": {},
   "outputs": [],
   "source": [
    "Badges    = pd.read_csv('/home/kuba/Documents/Dane/Badges.csv')\n",
    "Comments  = pd.read_csv('/home/kuba/Documents/Dane/Comments.csv')\n",
    "PostLinks = pd.read_csv('/home/kuba/Documents/Dane/PostLinks.csv')\n",
    "Posts     = pd.read_csv('/home/kuba/Documents/Dane/Posts.csv')\n",
    "Tags      = pd.read_csv('/home/kuba/Documents/Dane/Tags.csv')\n",
    "Users     = pd.read_csv('/home/kuba/Documents/Dane/Users.csv')\n",
    "Votes     = pd.read_csv('/home/kuba/Documents/Dane/Votes.csv')\n",
    "\n",
    "baza = os.path.join(tempfile.mkdtemp(), \"baza.db\")\n",
    "\n",
    "if os.path.isfile(baza):\n",
    "    os.remove(baza)\n",
    "\n",
    "conn = sqlite3.connect(baza)\n",
    "\n",
    "Badges.to_sql(\"Badges\", conn)\n",
    "Comments.to_sql(\"Comments\", conn) \n",
    "PostLinks.to_sql(\"PostLinks\", conn) \n",
    "Posts.to_sql(\"Posts\", conn)\n",
    "Tags.to_sql(\"Tags\", conn) \n",
    "Users.to_sql(\"Users\", conn) \n",
    "Votes.to_sql(\"Votes\", conn) \n"
   ]
  },
  {
   "cell_type": "markdown",
   "metadata": {},
   "source": [
    "## Zadanie 1 "
   ]
  },
  {
   "cell_type": "markdown",
   "metadata": {},
   "source": [
    "*Wybierzmy dziesięć najpopularniejszych pytań (jeśli PostTypeId ==1, to jest to pytanie), liczby favorites jakie dostały i informacje o\n",
    "ich postujących. Chcemy, żeby było uszeregowane od ilości sumy favorites, jakie dostał użytkownik kiedykolwiek.*"
   ]
  },
  {
   "cell_type": "markdown",
   "metadata": {},
   "source": [
    "-**SQL**"
   ]
  },
  {
   "cell_type": "code",
   "execution_count": 3,
   "metadata": {},
   "outputs": [],
   "source": [
    "df1_sql = pd.read_sql_query(\"\"\"\n",
    "SELECT\n",
    "Users.DisplayName,\n",
    "Users.Age,\n",
    "Users.Location,\n",
    "SUM(Posts.FavoriteCount) AS FavoriteTotal,\n",
    "Posts.Title AS MostFavoriteQuestion,\n",
    "MAX(Posts.FavoriteCount) AS MostFavoriteQuestionLikes\n",
    "FROM Posts\n",
    "JOIN Users ON Users.Id=Posts.OwnerUserId\n",
    "WHERE Posts.PostTypeId=1\n",
    "GROUP BY OwnerUserId\n",
    "ORDER BY FavoriteTotal DESC\n",
    "LIMIT 10\n",
    "\"\"\", conn)"
   ]
  },
  {
   "cell_type": "markdown",
   "metadata": {},
   "source": [
    "-**Pandas**"
   ]
  },
  {
   "cell_type": "code",
   "execution_count": 23,
   "metadata": {},
   "outputs": [],
   "source": [
    "# łączę obie tabelki w jedą\n",
    "df = pd.merge(Users, Posts, left_on='Id', right_on='OwnerUserId')\n",
    "\n",
    "#Wybieram te kolumny, z którymi będę coś jeszcze robił\n",
    "df1 = df[['DisplayName', 'Age', 'Location', 'FavoriteCount', 'Title','OwnerUserId', 'PostTypeId']]\n",
    "\n",
    "# grupuję\n",
    "df2 = df1.groupby('OwnerUserId')\n",
    "\n",
    "# wykonuję operacje na grupach\n",
    "df3 = df2.FavoriteCount.agg([sum, max]).merge(df1,\n",
    "                                              left_on=['OwnerUserId','max'], \n",
    "                                              right_on = ['OwnerUserId','FavoriteCount']).rename(\n",
    "    columns = {  'sum':'FavoriteTotal',\n",
    "                 'max':'MostFavoriteQuestionLikes',\n",
    "                 'Title':'MostFavoriteQuestion'})\n",
    "\n",
    "# filtruję i sortuję, biorę 10 pierszych i resetuję index\n",
    "df4 = df3[df3.PostTypeId == 1].sort_values('FavoriteTotal', ascending=False).head(10).reset_index()\n",
    "\n",
    "# wybieram te kolumny co w zapytaniu sql\n",
    "df5 = df4[['DisplayName','Age', 'Location','FavoriteTotal','MostFavoriteQuestion',\"MostFavoriteQuestionLikes\" ]]\n",
    "\n",
    "# zamieniam Nan na None\n",
    "df5.Location = df5.Location.where(pd.notnull(df5.Location), None)\n"
   ]
  },
  {
   "cell_type": "code",
   "execution_count": 24,
   "metadata": {},
   "outputs": [
    {
     "data": {
      "text/plain": [
       "True"
      ]
     },
     "execution_count": 24,
     "metadata": {},
     "output_type": "execute_result"
    }
   ],
   "source": [
    "#sprawdźmy czy wyszło nam to samo \n",
    "df5.equals(df1_sql)"
   ]
  },
  {
   "cell_type": "markdown",
   "metadata": {},
   "source": [
    "# Zadanie 2"
   ]
  },
  {
   "cell_type": "markdown",
   "metadata": {},
   "source": [
    "*Wybierzmy te pytania, które miały najwięcej pozytywnych odpowiedzi.*"
   ]
  },
  {
   "cell_type": "markdown",
   "metadata": {},
   "source": [
    "-**SQL** "
   ]
  },
  {
   "cell_type": "code",
   "execution_count": 5,
   "metadata": {},
   "outputs": [],
   "source": [
    "df2_sql = pd.read_sql_query(\"\"\"SELECT\n",
    "Posts.ID,\n",
    "Posts.Title,\n",
    "Posts2.PositiveAnswerCount\n",
    "FROM Posts\n",
    "JOIN (\n",
    "SELECT\n",
    "Posts.ParentID,\n",
    "COUNT(*) AS PositiveAnswerCount\n",
    "FROM Posts\n",
    "WHERE Posts.PostTypeID=2 AND Posts.Score>0\n",
    "GROUP BY Posts.ParentID\n",
    ") AS Posts2\n",
    "ON Posts.ID=Posts2.ParentID\n",
    "ORDER BY Posts2.PositiveAnswerCount DESC\n",
    "LIMIT 10\"\"\", conn)"
   ]
  },
  {
   "cell_type": "markdown",
   "metadata": {},
   "source": [
    "-**Pandas**"
   ]
  },
  {
   "cell_type": "code",
   "execution_count": 6,
   "metadata": {},
   "outputs": [
    {
     "data": {
      "text/plain": [
       "True"
      ]
     },
     "execution_count": 6,
     "metadata": {},
     "output_type": "execute_result"
    }
   ],
   "source": [
    "# Wybieram z postów pytania, które miały dodatni Score\n",
    "Posts2 = Posts.loc[(Posts.PostTypeId == 2) & (Posts.Score >0 )]\n",
    "\n",
    "# Liczę ilość odpowiedzi \n",
    "df2 =    Posts2.groupby('ParentId').size().to_frame().rename( columns = {0 : 'PositiveAnswerCount'})\n",
    "\n",
    "# Merguję z Posts i dzięki temu dla każdego pytania mam ilość pozytywnych odpowiedzi,\n",
    "# wybieram 10 z największą ilością\n",
    "df3 =    df2.merge( Posts , left_on = 'ParentId', right_on = 'Id')[[\n",
    "            'Id','Title', 'PositiveAnswerCount']].reset_index().sort_values([\n",
    "            'PositiveAnswerCount', 'Id'],ascending = [False,True]).reset_index()[[\n",
    "            'Id','Title','PositiveAnswerCount']].head(10)\n",
    "\n",
    "# sprawdzam czy dostaję to samo: \n",
    "df3.equals(df2_sql)"
   ]
  },
  {
   "cell_type": "markdown",
   "metadata": {},
   "source": [
    "## Zadanie 3"
   ]
  },
  {
   "cell_type": "markdown",
   "metadata": {},
   "source": [
    "*Wybierzmy pytania z największą liczbą pozytywnych głosów w danym roku* "
   ]
  },
  {
   "cell_type": "markdown",
   "metadata": {},
   "source": [
    "-**SQL**"
   ]
  },
  {
   "cell_type": "code",
   "execution_count": 7,
   "metadata": {},
   "outputs": [],
   "source": [
    "df3_sql = pd.read_sql_query(\"\"\"SELECT\n",
    "Posts.Title,\n",
    "UpVotesPerYear.Year,\n",
    "MAX(UpVotesPerYear.Count) AS Count\n",
    "FROM (\n",
    "SELECT\n",
    "PostId,\n",
    "COUNT(*) AS Count,\n",
    "STRFTIME('%Y', Votes.CreationDate) AS Year\n",
    "FROM Votes\n",
    "WHERE VoteTypeId=2\n",
    "GROUP BY PostId, Year\n",
    ") AS UpVotesPerYear\n",
    "JOIN Posts ON Posts.Id=UpVotesPerYear.PostId\n",
    "WHERE Posts.PostTypeId=1\n",
    "GROUP BY Year\"\"\", conn)"
   ]
  },
  {
   "cell_type": "markdown",
   "metadata": {},
   "source": [
    "-**Pandas** "
   ]
  },
  {
   "cell_type": "code",
   "execution_count": 8,
   "metadata": {},
   "outputs": [],
   "source": [
    "# wybieram te głosy, które były pozytywne\n",
    "df1 = Votes.loc[Votes.VoteTypeId == 2]\n",
    "\n",
    "# z daty ekstraktuję rok\n",
    "df1.CreationDate = df1.CreationDate.str[:4]\n",
    "\n",
    "# zmieniam nazwę kolumny \n",
    "df1 = df1.rename(columns = {'CreationDate':'Year'})\n",
    "\n",
    "# Liczę upvotes dla danego posta w roku \n",
    "UpvotesPerYear = df1.groupby(['PostId', 'Year']).size().to_frame('Count').reset_index()\n",
    "\n",
    "# merguję wynik z Postami\n",
    "df2 = pd.merge(UpvotesPerYear, Posts, left_on='PostId', right_on='Id')\n",
    "\n",
    "# Wybieram z postów pytania\n",
    "df2 = df2.loc[df2.PostTypeId == 1]\n",
    "\n",
    "# Liczę maksymalną ilość głosów w roku i merguję z df2, aby dopasować pytanie do liczby głosów\n",
    "df3 = df2.groupby('Year').Count.agg(max).to_frame('Count').reset_index().merge(df2, on=['Year', 'Count'])\n",
    "\n",
    "# wybieram tylko 3 kolumny\n",
    "df4 = df3[['Title','Year', 'Count']]"
   ]
  },
  {
   "cell_type": "code",
   "execution_count": 9,
   "metadata": {},
   "outputs": [
    {
     "data": {
      "text/plain": [
       "True"
      ]
     },
     "execution_count": 9,
     "metadata": {},
     "output_type": "execute_result"
    }
   ],
   "source": [
    "df4.equals(df3_sql)"
   ]
  },
  {
   "cell_type": "markdown",
   "metadata": {},
   "source": [
    "## Zadanie 4 "
   ]
  },
  {
   "cell_type": "markdown",
   "metadata": {},
   "source": [
    "*Wybieramy te pytania, na które odpowiedzi, które pojawiają się na semej górze mają o co najmniej 50 puntków mniej niż najbardziej\n",
    "puntkowana odpowiedź pod tym pytaniem. Szeregujemy malejąco po róźnicy.*"
   ]
  },
  {
   "cell_type": "markdown",
   "metadata": {},
   "source": [
    "-**SQL** "
   ]
  },
  {
   "cell_type": "code",
   "execution_count": 10,
   "metadata": {},
   "outputs": [],
   "source": [
    "df4_sql = pd.read_sql_query(\"\"\"SELECT\n",
    "Questions.Id,\n",
    "Questions.Title,\n",
    "BestAnswers.MaxScore,\n",
    "Posts.Score AS AcceptedScore,\n",
    "BestAnswers.MaxScore-Posts.Score AS Difference\n",
    "FROM (\n",
    "SELECT Id, ParentId, MAX(Score) AS MaxScore\n",
    "FROM Posts\n",
    "WHERE PostTypeId==2\n",
    "GROUP BY ParentId\n",
    ") AS BestAnswers\n",
    "JOIN (\n",
    "SELECT * FROM Posts\n",
    "WHERE PostTypeId==1\n",
    ") AS Questions\n",
    "ON Questions.Id=BestAnswers.ParentId\n",
    "JOIN Posts ON Questions.AcceptedAnswerId=Posts.Id\n",
    "WHERE Difference>50\n",
    "ORDER BY Difference DESC\"\"\", conn)"
   ]
  },
  {
   "cell_type": "markdown",
   "metadata": {},
   "source": [
    "-**Pandas** "
   ]
  },
  {
   "cell_type": "code",
   "execution_count": 11,
   "metadata": {},
   "outputs": [],
   "source": [
    "# wybieram z postów odpowedzi, grupuję po Id pytania i wybieram odpowiedź na pytanie z maxScorem\n",
    "BestAnswers =    Posts.loc[Posts.PostTypeId == 2].groupby(\n",
    "                'ParentId').Score.agg(max).to_frame('MaxScore').reset_index().merge(\n",
    "                Posts, left_on=['ParentId', 'MaxScore'], right_on=['ParentId', 'Score'])\n",
    "\n",
    "# Wybieram 3 kolumny \n",
    "BestAnswers = BestAnswers[['Id','ParentId', 'MaxScore']]\n",
    "\n",
    "# Z postów wybieram pytania\n",
    "Questions = Posts.loc[Posts.PostTypeId == 1]\n",
    "\n",
    "# Merguję pytania z odpowiedziami\n",
    "df1 = pd.merge(Questions, BestAnswers, left_on='Id', right_on = 'ParentId'\n",
    "              ).rename(columns = {'Score':'QScore'})\n",
    "\n",
    "# a później z Postami\n",
    "df2 = pd.merge(df1, Posts, left_on = 'AcceptedAnswerId', right_on='Id').reset_index(\n",
    "        )[['Id_x','Title_x','Score','MaxScore']]\n",
    "\n",
    "# liczę różnicę między odpowiedzią mającą maksymalną ilość Scora, a tą z AcceptedScore\n",
    "df2['Difference'] = df2.MaxScore - df2.Score\n",
    "\n",
    "# Sortuję po wielkości tej różnicy i porządkuję\n",
    "df3 = df2.sort_values('Difference', ascending = False).reset_index()[[\n",
    "       'Id_x','Title_x','MaxScore', 'Score','Difference']].rename(\n",
    "                                                         columns = {'Score':'AcceptedScore',\n",
    "                                                                    'Id_x':'Id',\n",
    "                                                                    'Title_x':'Title'})\n",
    "\n",
    "# na koniec wybieram te, które mają różnicę międzi maksymalnym a zaakceptowanym Scorem odpowiedzi równą 50\n",
    "df4 = df3.loc[df3.Difference > 50]"
   ]
  },
  {
   "cell_type": "code",
   "execution_count": 12,
   "metadata": {},
   "outputs": [
    {
     "data": {
      "text/plain": [
       "True"
      ]
     },
     "execution_count": 12,
     "metadata": {},
     "output_type": "execute_result"
    }
   ],
   "source": [
    "# sprawdzam czy jest takie samo\n",
    "df4.equals(df4_sql)"
   ]
  },
  {
   "cell_type": "markdown",
   "metadata": {},
   "source": [
    "## Zadanie 5 "
   ]
  },
  {
   "cell_type": "markdown",
   "metadata": {},
   "source": [
    "*Wybierzmy 10 pytań, których suma głosów dla odpowiedzi była największa.*"
   ]
  },
  {
   "cell_type": "markdown",
   "metadata": {},
   "source": [
    "-**SQL** "
   ]
  },
  {
   "cell_type": "code",
   "execution_count": 13,
   "metadata": {},
   "outputs": [],
   "source": [
    "df5_sql = pd.read_sql_query(\"\"\"SELECT\n",
    "Posts.Title,\n",
    "CmtTotScr.CommentsTotalScore\n",
    "FROM (\n",
    "SELECT\n",
    "PostID,\n",
    "UserID,\n",
    "SUM(Score) AS CommentsTotalScore\n",
    "FROM Comments\n",
    "GROUP BY PostID, UserID\n",
    ") AS CmtTotScr\n",
    "JOIN Posts ON Posts.ID=CmtTotScr.PostID AND Posts.OwnerUserId=CmtTotScr.UserID\n",
    "WHERE Posts.PostTypeId=1\n",
    "ORDER BY CmtTotScr.CommentsTotalScore DESC\n",
    "LIMIT 10\"\"\", conn)"
   ]
  },
  {
   "cell_type": "markdown",
   "metadata": {},
   "source": [
    "-**Pandas**"
   ]
  },
  {
   "cell_type": "code",
   "execution_count": 14,
   "metadata": {},
   "outputs": [],
   "source": [
    "# Grupuję po Id posta i Usera, następnie liczę sumę Scora jaką komentarz uzyskał\n",
    "CmtTotScr = Comments.groupby(['PostId','UserId']).Score.agg(sum).to_frame('CommentsTotalScore').reset_index()\n",
    "\n",
    "# Merguję z Postami\n",
    "df1 = pd.merge(CmtTotScr, Posts, left_on=['PostId','UserId'], right_on=['Id','OwnerUserId'])\n",
    "\n",
    "# Wybieram pytania i sortuję po Score komentarzy\n",
    "df2 = df1.loc[df1.PostTypeId == 1].sort_values(\n",
    "    'CommentsTotalScore',ascending = False).reset_index().sort_values(\n",
    "    ['CommentsTotalScore','index'], ascending=[False,True]).reset_index()[['Title','CommentsTotalScore']].head(10)\n"
   ]
  },
  {
   "cell_type": "code",
   "execution_count": 15,
   "metadata": {},
   "outputs": [
    {
     "data": {
      "text/plain": [
       "True"
      ]
     },
     "execution_count": 15,
     "metadata": {},
     "output_type": "execute_result"
    }
   ],
   "source": [
    "# patrzę, czy wyniki są równoważne\n",
    "df2.equals(df5_sql)"
   ]
  },
  {
   "cell_type": "markdown",
   "metadata": {},
   "source": [
    "## Zadanie 6 "
   ]
  },
  {
   "cell_type": "markdown",
   "metadata": {},
   "source": [
    "*Wybierzmy tych użytkowników i informacje o nich, którzy mają złotą odznakę, a identyczne odznaki jak oni, ma jedynie od 2 do 10\n",
    "użytkowników.*"
   ]
  },
  {
   "cell_type": "markdown",
   "metadata": {},
   "source": [
    "-**SQL** "
   ]
  },
  {
   "cell_type": "code",
   "execution_count": 16,
   "metadata": {},
   "outputs": [],
   "source": [
    "df6_sql = pd.read_sql_query(\"\"\"SELECT\n",
    "DISTINCT\n",
    "Users.Id,\n",
    "Users.DisplayName,\n",
    "Users.Reputation,\n",
    "Users.Age,\n",
    "Users.Location\n",
    "FROM (\n",
    "SELECT\n",
    "Name, UserID\n",
    "FROM Badges\n",
    "WHERE Name IN (\n",
    "SELECT\n",
    "Name\n",
    "FROM Badges\n",
    "WHERE Class=1\n",
    "GROUP BY Name\n",
    "HAVING COUNT(*) BETWEEN 2 AND 10\n",
    ")\n",
    "AND Class=1\n",
    ") AS ValuableBadges\n",
    "JOIN Users ON ValuableBadges.UserId=Users.Id\"\"\", conn)"
   ]
  },
  {
   "cell_type": "markdown",
   "metadata": {},
   "source": [
    "-**Pandas**"
   ]
  },
  {
   "cell_type": "code",
   "execution_count": 17,
   "metadata": {},
   "outputs": [],
   "source": [
    "# wybierami złotą odznakę i patrzymy ile ich jest\n",
    "df1 = Badges.loc[Badges.Class == 1].groupby('Name').size().to_frame('Count').reset_index()\n",
    "\n",
    "# wybieramy te odznaki, które ma od 2 do 10 urzytkowników\n",
    "df2 = df1.loc[(df1.Count >=2) & (df1.Count <= 10) ][['Name']]\n",
    "\n",
    "# Wybieramy te odznaki, które są dość rzadkie i są złote\n",
    "ValuableBadges = Badges.loc[Badges.Name.isin(df2.Name)].loc[Badges.Class == 1][['Name','UserId']]\n",
    "\n",
    "# Na koniec łączymy Userów, i bierzemy userów, którzy mają te odznaki, patrzymy na dane ich kont.\n",
    "df3 = pd.merge(ValuableBadges, Users, left_on = 'UserId', right_on='Id')[['Id','DisplayName','Reputation','Age',\n",
    "                                                                          'Location']].drop_duplicates(\n",
    "                                                                            ).reset_index(drop=True)"
   ]
  },
  {
   "cell_type": "code",
   "execution_count": 18,
   "metadata": {},
   "outputs": [
    {
     "data": {
      "text/plain": [
       "True"
      ]
     },
     "execution_count": 18,
     "metadata": {},
     "output_type": "execute_result"
    }
   ],
   "source": [
    "# na koniec patrzymy czy wyniki są równoważne\n",
    "df3.equals(df6_sql)"
   ]
  },
  {
   "cell_type": "markdown",
   "metadata": {},
   "source": [
    "## Zadanie 7 "
   ]
  },
  {
   "cell_type": "markdown",
   "metadata": {},
   "source": [
    "*Wybierzmy 10 pytań które dostały najwięcej pozytywnych głosów, stworzonych przed 2016 rokiem, które nie dostały żadnego pozy-\n",
    "tywnego głosu po 2016 roku.* "
   ]
  },
  {
   "cell_type": "markdown",
   "metadata": {},
   "source": [
    "-**SQL** "
   ]
  },
  {
   "cell_type": "code",
   "execution_count": 19,
   "metadata": {},
   "outputs": [],
   "source": [
    "df7_sql = pd.read_sql_query(\"\"\"SELECT\n",
    "Posts.Title,\n",
    "VotesByAge2.OldVotes\n",
    "FROM Posts\n",
    "JOIN (\n",
    "SELECT\n",
    "PostId,\n",
    "MAX(CASE WHEN VoteDate = 'new' THEN Total ELSE 0 END) NewVotes,\n",
    "MAX(CASE WHEN VoteDate = 'old' THEN Total ELSE 0 END) OldVotes,\n",
    "SUM(Total) AS Votes\n",
    "FROM (\n",
    "SELECT\n",
    "PostId,\n",
    "CASE STRFTIME('%Y', CreationDate)\n",
    "WHEN '2017' THEN 'new'\n",
    "WHEN '2016' THEN 'new'\n",
    "ELSE 'old'\n",
    "END VoteDate,\n",
    "COUNT(*) AS Total\n",
    "FROM Votes\n",
    "WHERE VoteTypeId=2\n",
    "GROUP BY PostId, VoteDate\n",
    ") AS VotesByAge\n",
    "GROUP BY VotesByAge.PostId\n",
    "HAVING NewVotes=0\n",
    ") AS VotesByAge2 ON VotesByAge2.PostId=Posts.ID\n",
    "WHERE Posts.PostTypeId=1\n",
    "ORDER BY VotesByAge2.OldVotes DESC\n",
    "LIMIT 10\"\"\", conn)"
   ]
  },
  {
   "cell_type": "markdown",
   "metadata": {},
   "source": [
    "-**Pandas**"
   ]
  },
  {
   "cell_type": "code",
   "execution_count": 20,
   "metadata": {},
   "outputs": [],
   "source": [
    "# wybieram pozytywne głosy\n",
    "df1 = Votes.loc[Votes.VoteTypeId == 2]\n",
    "\n",
    "# z daty biorę rok\n",
    "df1.CreationDate = df1.CreationDate.str[:4]\n",
    "\n",
    "# jeśli tok >= 2016 to jest to nowy post, jeśli powstał przed 2016, to jest on stary\n",
    "df1.CreationDate = ['new' if e in ['2016','2017'] else 'old' for e in df1.CreationDate]\n",
    "df2 = df1.rename(columns = {'CreationDate':'VoteDate'})\n",
    "\n",
    "# Grupuję po dacie i Id posta (używam unstacka, bo size() daje nam tylko te obserwacje,\n",
    "# które występują przynajmniej raz)\n",
    "VotesByAge = df2.groupby(['PostId','VoteDate']).size().unstack(fill_value=0).stack().to_frame('Total').reset_index()\n",
    "\n",
    "# liczę ilość nowych głosów dla posta\n",
    "temp1 = VotesByAge.loc[VotesByAge.VoteDate == 'new'].groupby('PostId').Total.agg(max).to_frame(\n",
    "                                                                'NewVotes').reset_index()\n",
    "# teraz ilość starych głosów dla posta\n",
    "temp2 = VotesByAge.loc[VotesByAge.VoteDate == 'old'].groupby('PostId').Total.agg(max).to_frame(\n",
    "                                                                'OldVotes').reset_index()\n",
    "\n",
    "# Merguję te ilości głosów\n",
    "VotesByAge2 = pd.merge(temp1, temp2, on='PostId')\n",
    "\n",
    "# teraz wybieram te, które nie mają wcale nowych głosów\n",
    "VotesByAge2 = VotesByAge2.loc[VotesByAge2.NewVotes == 0]\n",
    "\n",
    "# merguję wynik z postami\n",
    "df3 = pd.merge(VotesByAge2, Posts , left_on = 'PostId', right_on = 'Id')\n",
    "\n",
    "# następnie wybieram te pytania, które mają największą liczbę starych głosów\n",
    "df4 = df3.loc[df3.PostTypeId == 1][['Title', 'OldVotes']].sort_values('OldVotes', ascending = False).reset_index(\n",
    "                                    ).sort_values(['OldVotes','index'], ascending = [False, True])[[\n",
    "                                    'Title', 'OldVotes']].head(10).reset_index(drop=True)\n"
   ]
  },
  {
   "cell_type": "code",
   "execution_count": 21,
   "metadata": {},
   "outputs": [
    {
     "data": {
      "text/plain": [
       "True"
      ]
     },
     "execution_count": 21,
     "metadata": {},
     "output_type": "execute_result"
    }
   ],
   "source": [
    "# sprawdzam czy wyniki są równoważne: \n",
    "df4.equals(df7_sql)"
   ]
  }
 ],
 "metadata": {
  "kernelspec": {
   "display_name": "Python 3",
   "language": "python",
   "name": "python3"
  },
  "language_info": {
   "codemirror_mode": {
    "name": "ipython",
    "version": 3
   },
   "file_extension": ".py",
   "mimetype": "text/x-python",
   "name": "python",
   "nbconvert_exporter": "python",
   "pygments_lexer": "ipython3",
   "version": "3.7.1"
  }
 },
 "nbformat": 4,
 "nbformat_minor": 2
}

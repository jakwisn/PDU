{
 "cells": [
  {
   "cell_type": "markdown",
   "metadata": {},
   "source": [
    "# Praca domowa numer 4"
   ]
  },
  {
   "cell_type": "markdown",
   "metadata": {},
   "source": [
    "## zadanie 0 - wczytanie funkcji"
   ]
  },
  {
   "cell_type": "code",
   "execution_count": 1,
   "metadata": {},
   "outputs": [],
   "source": [
    "import pandas as pd\n",
    "import numpy as np\n",
    "import sqlite3\n",
    "import tempfile\n",
    "import os\n",
    "import sqlite3"
   ]
  },
  {
   "cell_type": "code",
   "execution_count": 2,
   "metadata": {},
   "outputs": [],
   "source": [
    "Badges    = pd.read_csv('/home/kuba/Documents/Dane/Badges.csv')\n",
    "Comments  = pd.read_csv('/home/kuba/Documents/Dane/Comments.csv')\n",
    "PostLinks = pd.read_csv('/home/kuba/Documents/Dane/PostLinks.csv')\n",
    "Posts     = pd.read_csv('/home/kuba/Documents/Dane/Posts.csv')\n",
    "Tags      = pd.read_csv('/home/kuba/Documents/Dane/Tags.csv')\n",
    "Users     = pd.read_csv('/home/kuba/Documents/Dane/Users.csv')\n",
    "Votes     = pd.read_csv('/home/kuba/Documents/Dane/Votes.csv')\n",
    "\n",
    "baza = os.path.join(tempfile.mkdtemp(), \"baza.db\")\n",
    "\n",
    "if os.path.isfile(baza):\n",
    "    os.remove(baza)\n",
    "\n",
    "conn = sqlite3.connect(baza)\n",
    "\n",
    "Badges.to_sql(\"Badges\", conn)\n",
    "Comments.to_sql(\"Comments\", conn) \n",
    "PostLinks.to_sql(\"PostLinks\", conn) \n",
    "Posts.to_sql(\"Posts\", conn)\n",
    "Tags.to_sql(\"Tags\", conn) \n",
    "Users.to_sql(\"Users\", conn) \n",
    "Votes.to_sql(\"Votes\", conn) \n"
   ]
  },
  {
   "cell_type": "markdown",
   "metadata": {},
   "source": [
    "## Zadanie 1 "
   ]
  },
  {
   "cell_type": "markdown",
   "metadata": {},
   "source": [
    "-**SQL**"
   ]
  },
  {
   "cell_type": "code",
   "execution_count": 14,
   "metadata": {},
   "outputs": [],
   "source": [
    "df1_sql = pd.read_sql_query(\"\"\"\n",
    "SELECT\n",
    "Users.DisplayName,\n",
    "Users.Age,\n",
    "Users.Location,\n",
    "SUM(Posts.FavoriteCount) AS FavoriteTotal,\n",
    "Posts.Title AS MostFavoriteQuestion,\n",
    "MAX(Posts.FavoriteCount) AS MostFavoriteQuestionLikes\n",
    "FROM Posts\n",
    "JOIN Users ON Users.Id=Posts.OwnerUserId\n",
    "WHERE Posts.PostTypeId=1\n",
    "GROUP BY OwnerUserId\n",
    "ORDER BY FavoriteTotal DESC\n",
    "LIMIT 10\n",
    "\"\"\", conn)"
   ]
  },
  {
   "cell_type": "markdown",
   "metadata": {},
   "source": [
    "-**Pandas**"
   ]
  },
  {
   "cell_type": "code",
   "execution_count": 15,
   "metadata": {},
   "outputs": [],
   "source": [
    "# łączę obie tabelki w jedą\n",
    "df = pd.merge(Users, Posts, left_on='Id', right_on='OwnerUserId')"
   ]
  },
  {
   "cell_type": "code",
   "execution_count": 16,
   "metadata": {},
   "outputs": [],
   "source": [
    "#Wybieram te kolumny, z którymi będę coś jeszcze robił\n",
    "df1 = df[['DisplayName', 'Age', 'Location', 'FavoriteCount', 'Title','OwnerUserId', 'PostTypeId']]"
   ]
  },
  {
   "cell_type": "code",
   "execution_count": 17,
   "metadata": {},
   "outputs": [],
   "source": [
    "# grupuję\n",
    "df2 = df1.groupby('OwnerUserId')\n",
    "\n",
    "# wykonuję operacje na grupach\n",
    "df3 = df2.FavoriteCount.agg([sum, max]).merge(df1,\n",
    "                                              left_on=['OwnerUserId','max'], \n",
    "                                              right_on = ['OwnerUserId','FavoriteCount']).rename(\n",
    "    columns = {  'sum':'FavoriteTotal',\n",
    "                 'max':'MostFavoriteQuestionLikes',\n",
    "                 'Title':'MostFavoriteQuestion'})\n"
   ]
  },
  {
   "cell_type": "code",
   "execution_count": 19,
   "metadata": {},
   "outputs": [],
   "source": [
    "# filtruję i sortuję, biorę 10 pierszych i resetuję index\n",
    "df4 = df3[df3.PostTypeId == 1].sort_values('FavoriteTotal', ascending=False).head(10).reset_index()\n",
    "\n",
    "# wybieram te kolumny co w zapytaniu sql\n",
    "df5 = df4[['DisplayName','Age', 'Location','FavoriteTotal','MostFavoriteQuestion',\"MostFavoriteQuestionLikes\" ]]\n",
    "\n",
    "# zamieniam Nan na None\n",
    "df5.Location = df5.Location.where(pd.notnull(df5.Location), None)\n",
    "\n",
    "df_pandas_1 = df5"
   ]
  },
  {
   "cell_type": "code",
   "execution_count": 20,
   "metadata": {},
   "outputs": [
    {
     "data": {
      "text/plain": [
       "True"
      ]
     },
     "execution_count": 20,
     "metadata": {},
     "output_type": "execute_result"
    }
   ],
   "source": [
    "#sprawdźmy czy wyszło nam to samo \n",
    "df_pandas_1.equals(df1_sql)"
   ]
  },
  {
   "cell_type": "markdown",
   "metadata": {},
   "source": [
    "# Zadanie 2"
   ]
  },
  {
   "cell_type": "markdown",
   "metadata": {},
   "source": [
    "-**SQL**"
   ]
  },
  {
   "cell_type": "code",
   "execution_count": 100,
   "metadata": {},
   "outputs": [],
   "source": [
    "df2_sql = pd.read_sql_query(\"\"\"SELECT\n",
    "Posts.ID,\n",
    "Posts.Title,\n",
    "Posts2.PositiveAnswerCount\n",
    "FROM Posts\n",
    "JOIN (\n",
    "SELECT\n",
    "Posts.ParentID,\n",
    "COUNT(*) AS PositiveAnswerCount\n",
    "FROM Posts\n",
    "WHERE Posts.PostTypeID=2 AND Posts.Score>0\n",
    "GROUP BY Posts.ParentID\n",
    ") AS Posts2\n",
    "ON Posts.ID=Posts2.ParentID\n",
    "ORDER BY Posts2.PositiveAnswerCount DESC\n",
    "LIMIT 10\"\"\", conn)"
   ]
  },
  {
   "cell_type": "markdown",
   "metadata": {},
   "source": [
    "-**Pandas*** "
   ]
  },
  {
   "cell_type": "code",
   "execution_count": 105,
   "metadata": {},
   "outputs": [],
   "source": [
    "Posts2 = Posts.loc[(Posts.PostTypeId == 2) & (Posts.Score >0 )]\n",
    "\n",
    "df2 =    Posts2.groupby('ParentId').size().to_frame().rename( columns = {0 : 'PositiveAnswerCount'})\n",
    "\n",
    "df3 =    df2.merge( Posts , left_on = 'ParentId', right_on = 'Id')[[\n",
    "            'Id','Title', 'PositiveAnswerCount']].reset_index().sort_values([\n",
    "            'PositiveAnswerCount', 'Id'],ascending = [False,True]).reset_index()[['Id','Title','PositiveAnswerCount']].head(10)\n"
   ]
  },
  {
   "cell_type": "code",
   "execution_count": 106,
   "metadata": {},
   "outputs": [
    {
     "data": {
      "text/html": [
       "<div>\n",
       "<style scoped>\n",
       "    .dataframe tbody tr th:only-of-type {\n",
       "        vertical-align: middle;\n",
       "    }\n",
       "\n",
       "    .dataframe tbody tr th {\n",
       "        vertical-align: top;\n",
       "    }\n",
       "\n",
       "    .dataframe thead th {\n",
       "        text-align: right;\n",
       "    }\n",
       "</style>\n",
       "<table border=\"1\" class=\"dataframe\">\n",
       "  <thead>\n",
       "    <tr style=\"text-align: right;\">\n",
       "      <th></th>\n",
       "      <th>Id</th>\n",
       "      <th>Title</th>\n",
       "      <th>PositiveAnswerCount</th>\n",
       "    </tr>\n",
       "  </thead>\n",
       "  <tbody>\n",
       "    <tr>\n",
       "      <th>0</th>\n",
       "      <td>250</td>\n",
       "      <td>Which European cities have bike rental station...</td>\n",
       "      <td>24</td>\n",
       "    </tr>\n",
       "    <tr>\n",
       "      <th>1</th>\n",
       "      <td>10</td>\n",
       "      <td>When traveling to a country with a different c...</td>\n",
       "      <td>20</td>\n",
       "    </tr>\n",
       "    <tr>\n",
       "      <th>2</th>\n",
       "      <td>13562</td>\n",
       "      <td>How do you choose a restaurant when travelling?</td>\n",
       "      <td>20</td>\n",
       "    </tr>\n",
       "    <tr>\n",
       "      <th>3</th>\n",
       "      <td>48775</td>\n",
       "      <td>How can I deal with people asking to switch se...</td>\n",
       "      <td>20</td>\n",
       "    </tr>\n",
       "    <tr>\n",
       "      <th>4</th>\n",
       "      <td>3220</td>\n",
       "      <td>Why would you wrap your luggage in plastic?</td>\n",
       "      <td>19</td>\n",
       "    </tr>\n",
       "    <tr>\n",
       "      <th>5</th>\n",
       "      <td>43660</td>\n",
       "      <td>Traveling in Europe Solo - 18 years old. Feasi...</td>\n",
       "      <td>19</td>\n",
       "    </tr>\n",
       "    <tr>\n",
       "      <th>6</th>\n",
       "      <td>30656</td>\n",
       "      <td>Long-life SIM cards in Europe</td>\n",
       "      <td>18</td>\n",
       "    </tr>\n",
       "    <tr>\n",
       "      <th>7</th>\n",
       "      <td>7663</td>\n",
       "      <td>Am I expected to tip wait staff in Europe?</td>\n",
       "      <td>17</td>\n",
       "    </tr>\n",
       "    <tr>\n",
       "      <th>8</th>\n",
       "      <td>59128</td>\n",
       "      <td>Is there a way to prevent \"looking like a tour...</td>\n",
       "      <td>17</td>\n",
       "    </tr>\n",
       "    <tr>\n",
       "      <th>9</th>\n",
       "      <td>60446</td>\n",
       "      <td>Is it rude to ask if the food contains pork or...</td>\n",
       "      <td>17</td>\n",
       "    </tr>\n",
       "  </tbody>\n",
       "</table>\n",
       "</div>"
      ],
      "text/plain": [
       "      Id                                              Title  \\\n",
       "0    250  Which European cities have bike rental station...   \n",
       "1     10  When traveling to a country with a different c...   \n",
       "2  13562    How do you choose a restaurant when travelling?   \n",
       "3  48775  How can I deal with people asking to switch se...   \n",
       "4   3220        Why would you wrap your luggage in plastic?   \n",
       "5  43660  Traveling in Europe Solo - 18 years old. Feasi...   \n",
       "6  30656                      Long-life SIM cards in Europe   \n",
       "7   7663         Am I expected to tip wait staff in Europe?   \n",
       "8  59128  Is there a way to prevent \"looking like a tour...   \n",
       "9  60446  Is it rude to ask if the food contains pork or...   \n",
       "\n",
       "   PositiveAnswerCount  \n",
       "0                   24  \n",
       "1                   20  \n",
       "2                   20  \n",
       "3                   20  \n",
       "4                   19  \n",
       "5                   19  \n",
       "6                   18  \n",
       "7                   17  \n",
       "8                   17  \n",
       "9                   17  "
      ]
     },
     "execution_count": 106,
     "metadata": {},
     "output_type": "execute_result"
    }
   ],
   "source": [
    "df2_sql"
   ]
  },
  {
   "cell_type": "code",
   "execution_count": 108,
   "metadata": {},
   "outputs": [
    {
     "data": {
      "text/plain": [
       "True"
      ]
     },
     "execution_count": 108,
     "metadata": {},
     "output_type": "execute_result"
    }
   ],
   "source": [
    "df3.equals(df2_sql)"
   ]
  },
  {
   "cell_type": "markdown",
   "metadata": {},
   "source": [
    "## Zadanie 3"
   ]
  },
  {
   "cell_type": "markdown",
   "metadata": {},
   "source": [
    "-**SQL**"
   ]
  },
  {
   "cell_type": "code",
   "execution_count": 206,
   "metadata": {},
   "outputs": [],
   "source": [
    "df3_sql = pd.read_sql_query(\"\"\"SELECT\n",
    "Posts.Title,\n",
    "UpVotesPerYear.Year,\n",
    "MAX(UpVotesPerYear.Count) AS Count\n",
    "FROM (\n",
    "SELECT\n",
    "PostId,\n",
    "COUNT(*) AS Count,\n",
    "STRFTIME('%Y', Votes.CreationDate) AS Year\n",
    "FROM Votes\n",
    "WHERE VoteTypeId=2\n",
    "GROUP BY PostId, Year\n",
    ") AS UpVotesPerYear\n",
    "JOIN Posts ON Posts.Id=UpVotesPerYear.PostId\n",
    "WHERE Posts.PostTypeId=1\n",
    "GROUP BY Year\"\"\", conn)"
   ]
  },
  {
   "cell_type": "code",
   "execution_count": 207,
   "metadata": {},
   "outputs": [],
   "source": [
    "df1 = Votes.loc[Votes.VoteTypeId == 2]\n",
    "df1.CreationDate = df1.CreationDate.str[:4]\n",
    "df1 = df1.rename(columns = {'CreationDate':'Year'})\n",
    "\n",
    "UpvotesPerYear = df1.groupby(['PostId', 'Year']).size().to_frame('Count').reset_index()\n",
    "\n",
    "df2 = pd.merge(UpvotesPerYear, Posts, left_on='PostId', right_on='Id')\n",
    "df2 = df2.loc[df2.PostTypeId == 1]\n",
    "\n",
    "df3 = df2.groupby('Year').Count.agg(max).to_frame('Count').reset_index().merge(df2, on=['Year', 'Count'])\n",
    "\n",
    "df4 = df3[['Title','Year', 'Count']]"
   ]
  },
  {
   "cell_type": "code",
   "execution_count": 208,
   "metadata": {},
   "outputs": [
    {
     "data": {
      "text/plain": [
       "True"
      ]
     },
     "execution_count": 208,
     "metadata": {},
     "output_type": "execute_result"
    }
   ],
   "source": [
    "df4.equals(df3_sql)"
   ]
  },
  {
   "cell_type": "markdown",
   "metadata": {},
   "source": [
    "## Zadanie 4 "
   ]
  },
  {
   "cell_type": "markdown",
   "metadata": {},
   "source": [
    "-**SQL** "
   ]
  },
  {
   "cell_type": "code",
   "execution_count": 226,
   "metadata": {},
   "outputs": [],
   "source": [
    "df4_sql = pd.read_sql_query(\"\"\"SELECT\n",
    "Questions.Id,\n",
    "Questions.Title,\n",
    "BestAnswers.MaxScore,\n",
    "Posts.Score AS AcceptedScore,\n",
    "BestAnswers.MaxScore-Posts.Score AS Difference\n",
    "FROM (\n",
    "SELECT Id, ParentId, MAX(Score) AS MaxScore\n",
    "FROM Posts\n",
    "WHERE PostTypeId==2\n",
    "GROUP BY ParentId\n",
    ") AS BestAnswers\n",
    "JOIN (\n",
    "SELECT * FROM Posts\n",
    "WHERE PostTypeId==1\n",
    ") AS Questions\n",
    "ON Questions.Id=BestAnswers.ParentId\n",
    "JOIN Posts ON Questions.AcceptedAnswerId=Posts.Id\n",
    "WHERE Difference>50\n",
    "ORDER BY Difference DESC\"\"\", conn)"
   ]
  },
  {
   "cell_type": "code",
   "execution_count": 278,
   "metadata": {},
   "outputs": [],
   "source": [
    "BestAnswers =    Posts.loc[Posts.PostTypeId == 2].groupby(\n",
    "                'ParentId').Score.agg(max).to_frame('MaxScore').reset_index().merge(\n",
    "                Posts, left_on=['ParentId', 'MaxScore'], right_on=['ParentId', 'Score'])\n",
    "\n",
    "BestAnswers = BestAnswers[['Id','ParentId', 'MaxScore']]\n",
    "\n",
    "Questions = Posts.loc[Posts.PostTypeId == 1]\n",
    "\n",
    "df1 = pd.merge(Questions, BestAnswers, left_on='Id', right_on = 'ParentId'\n",
    "              ).rename(columns = {'Score':'QScore'})\n",
    "\n",
    "df2 = pd.merge(df1, Posts, left_on = 'AcceptedAnswerId', right_on='Id').reset_index(\n",
    "        )[['Id_x','Title_x','Score','MaxScore']]\n",
    "\n",
    "df2['Difference'] = df2.MaxScore - df2.Score\n",
    "df2\n",
    "df3 = df2.sort_values('Difference', ascending = False).reset_index()[[\n",
    "       'Id_x','Title_x','MaxScore', 'Score','Difference']].rename(\n",
    "                                                         columns = {'Score':'AcceptedScore',\n",
    "                                                                    'Id_x':'Id',\n",
    "                                                                    'Title_x':'Title'})\n",
    "\n",
    "df4 = df3.loc[df3.Difference > 50]"
   ]
  },
  {
   "cell_type": "code",
   "execution_count": 281,
   "metadata": {},
   "outputs": [
    {
     "data": {
      "text/plain": [
       "True"
      ]
     },
     "execution_count": 281,
     "metadata": {},
     "output_type": "execute_result"
    }
   ],
   "source": [
    "df4.equals(df4_sql)"
   ]
  },
  {
   "cell_type": "markdown",
   "metadata": {},
   "source": [
    "## Zadanie 5 "
   ]
  },
  {
   "cell_type": "markdown",
   "metadata": {},
   "source": [
    "-**SQL** "
   ]
  },
  {
   "cell_type": "code",
   "execution_count": 284,
   "metadata": {},
   "outputs": [
    {
     "data": {
      "text/html": [
       "<div>\n",
       "<style scoped>\n",
       "    .dataframe tbody tr th:only-of-type {\n",
       "        vertical-align: middle;\n",
       "    }\n",
       "\n",
       "    .dataframe tbody tr th {\n",
       "        vertical-align: top;\n",
       "    }\n",
       "\n",
       "    .dataframe thead th {\n",
       "        text-align: right;\n",
       "    }\n",
       "</style>\n",
       "<table border=\"1\" class=\"dataframe\">\n",
       "  <thead>\n",
       "    <tr style=\"text-align: right;\">\n",
       "      <th></th>\n",
       "      <th>Title</th>\n",
       "      <th>CommentsTotalScore</th>\n",
       "    </tr>\n",
       "  </thead>\n",
       "  <tbody>\n",
       "    <tr>\n",
       "      <th>0</th>\n",
       "      <td>How to intentionally get denied entry to the U...</td>\n",
       "      <td>75</td>\n",
       "    </tr>\n",
       "    <tr>\n",
       "      <th>1</th>\n",
       "      <td>How can I deal with people asking to switch se...</td>\n",
       "      <td>32</td>\n",
       "    </tr>\n",
       "    <tr>\n",
       "      <th>2</th>\n",
       "      <td>What is France's traditional costume?</td>\n",
       "      <td>26</td>\n",
       "    </tr>\n",
       "    <tr>\n",
       "      <th>3</th>\n",
       "      <td>What's the longest scheduled public bus ride i...</td>\n",
       "      <td>25</td>\n",
       "    </tr>\n",
       "    <tr>\n",
       "      <th>4</th>\n",
       "      <td>Can I have a watermelon in hand luggage?</td>\n",
       "      <td>25</td>\n",
       "    </tr>\n",
       "    <tr>\n",
       "      <th>5</th>\n",
       "      <td>How does President Trump's travel ban affect n...</td>\n",
       "      <td>25</td>\n",
       "    </tr>\n",
       "    <tr>\n",
       "      <th>6</th>\n",
       "      <td>Caught speeding 111 Mph (179 km/h) in Californ...</td>\n",
       "      <td>24</td>\n",
       "    </tr>\n",
       "    <tr>\n",
       "      <th>7</th>\n",
       "      <td>Returning US Citizen lost passport in Canada</td>\n",
       "      <td>23</td>\n",
       "    </tr>\n",
       "    <tr>\n",
       "      <th>8</th>\n",
       "      <td>Legalities and safety concerns of visiting pro...</td>\n",
       "      <td>20</td>\n",
       "    </tr>\n",
       "    <tr>\n",
       "      <th>9</th>\n",
       "      <td>India just demonetized all Rs 500 &amp; 1000 notes...</td>\n",
       "      <td>20</td>\n",
       "    </tr>\n",
       "  </tbody>\n",
       "</table>\n",
       "</div>"
      ],
      "text/plain": [
       "                                               Title  CommentsTotalScore\n",
       "0  How to intentionally get denied entry to the U...                  75\n",
       "1  How can I deal with people asking to switch se...                  32\n",
       "2              What is France's traditional costume?                  26\n",
       "3  What's the longest scheduled public bus ride i...                  25\n",
       "4           Can I have a watermelon in hand luggage?                  25\n",
       "5  How does President Trump's travel ban affect n...                  25\n",
       "6  Caught speeding 111 Mph (179 km/h) in Californ...                  24\n",
       "7       Returning US Citizen lost passport in Canada                  23\n",
       "8  Legalities and safety concerns of visiting pro...                  20\n",
       "9  India just demonetized all Rs 500 & 1000 notes...                  20"
      ]
     },
     "execution_count": 284,
     "metadata": {},
     "output_type": "execute_result"
    }
   ],
   "source": [
    "df5_sql = pd.read_sql_query(\"\"\"SELECT\n",
    "Posts.Title,\n",
    "CmtTotScr.CommentsTotalScore\n",
    "FROM (\n",
    "SELECT\n",
    "PostID,\n",
    "UserID,\n",
    "SUM(Score) AS CommentsTotalScore\n",
    "FROM Comments\n",
    "GROUP BY PostID, UserID\n",
    ") AS CmtTotScr\n",
    "JOIN Posts ON Posts.ID=CmtTotScr.PostID AND Posts.OwnerUserId=CmtTotScr.UserID\n",
    "WHERE Posts.PostTypeId=1\n",
    "ORDER BY CmtTotScr.CommentsTotalScore DESC\n",
    "LIMIT 10\"\"\", conn)"
   ]
  },
  {
   "cell_type": "code",
   "execution_count": 344,
   "metadata": {},
   "outputs": [],
   "source": [
    "CmtTotScr = Comments.groupby(['PostId','UserId']).Score.agg(sum).to_frame('CommentsTotalScore').reset_index()\n",
    "\n",
    "df1 = pd.merge(CmtTotScr, Posts, left_on=['PostId','UserId'], right_on=['Id','OwnerUserId'])\n",
    "\n",
    "df2 = df1.loc[df1.PostTypeId == 1].sort_values(\n",
    "    'CommentsTotalScore',ascending = False).reset_index().sort_values(\n",
    "    ['CommentsTotalScore','index'], ascending=[False,True]).reset_index()[['Title','CommentsTotalScore']].head(10)"
   ]
  },
  {
   "cell_type": "code",
   "execution_count": 346,
   "metadata": {},
   "outputs": [
    {
     "data": {
      "text/plain": [
       "True"
      ]
     },
     "execution_count": 346,
     "metadata": {},
     "output_type": "execute_result"
    }
   ],
   "source": [
    "df2.equals(df5_sql)"
   ]
  },
  {
   "cell_type": "markdown",
   "metadata": {},
   "source": [
    "## Zadanie 6 "
   ]
  },
  {
   "cell_type": "markdown",
   "metadata": {},
   "source": [
    "-**SQL** "
   ]
  },
  {
   "cell_type": "code",
   "execution_count": 349,
   "metadata": {},
   "outputs": [],
   "source": [
    "df6_sql = pd.read_sql_query(\"\"\"SELECT\n",
    "DISTINCT\n",
    "Users.Id,\n",
    "Users.DisplayName,\n",
    "Users.Reputation,\n",
    "Users.Age,\n",
    "Users.Location\n",
    "FROM (\n",
    "SELECT\n",
    "Name, UserID\n",
    "FROM Badges\n",
    "WHERE Name IN (\n",
    "SELECT\n",
    "Name\n",
    "FROM Badges\n",
    "WHERE Class=1\n",
    "GROUP BY Name\n",
    "HAVING COUNT(*) BETWEEN 2 AND 10\n",
    ")\n",
    "AND Class=1\n",
    ") AS ValuableBadges\n",
    "JOIN Users ON ValuableBadges.UserId=Users.Id\"\"\", conn)"
   ]
  },
  {
   "cell_type": "markdown",
   "metadata": {},
   "source": [
    "-**Pandas**"
   ]
  },
  {
   "cell_type": "code",
   "execution_count": 382,
   "metadata": {},
   "outputs": [],
   "source": [
    "df1 = Badges.loc[Badges.Class == 1].groupby('Name').size().to_frame('Count').reset_index()\n",
    "\n",
    "df2 = df1.loc[(df1.Count >=2) & (df1.Count <= 10) ][['Name']]\n",
    "\n",
    "ValuableBadges = Badges.loc[Badges.Name.isin(df2.Name)].loc[Badges.Class == 1][['Name','UserId']]\n",
    "\n",
    "df3 = pd.merge(ValuableBadges, Users, left_on = 'UserId', right_on='Id')[['Id','DisplayName','Reputation','Age',\n",
    "                                                                          'Location']].drop_duplicates(\n",
    "                                                                            ).reset_index(drop=True)"
   ]
  },
  {
   "cell_type": "code",
   "execution_count": 386,
   "metadata": {},
   "outputs": [
    {
     "data": {
      "text/plain": [
       "True"
      ]
     },
     "execution_count": 386,
     "metadata": {},
     "output_type": "execute_result"
    }
   ],
   "source": [
    "df3.equals(df6_sql)"
   ]
  },
  {
   "cell_type": "markdown",
   "metadata": {},
   "source": [
    "## Zadanie 7 "
   ]
  },
  {
   "cell_type": "markdown",
   "metadata": {},
   "source": [
    "-**SQL** "
   ]
  },
  {
   "cell_type": "code",
   "execution_count": 389,
   "metadata": {},
   "outputs": [],
   "source": [
    "df7_sql = pd.read_sql_query(\"\"\"SELECT\n",
    "Posts.Title,\n",
    "VotesByAge2.OldVotes\n",
    "FROM Posts\n",
    "JOIN (\n",
    "SELECT\n",
    "PostId,\n",
    "MAX(CASE WHEN VoteDate = 'new' THEN Total ELSE 0 END) NewVotes,\n",
    "MAX(CASE WHEN VoteDate = 'old' THEN Total ELSE 0 END) OldVotes,\n",
    "SUM(Total) AS Votes\n",
    "FROM (\n",
    "SELECT\n",
    "PostId,\n",
    "CASE STRFTIME('%Y', CreationDate)\n",
    "WHEN '2017' THEN 'new'\n",
    "WHEN '2016' THEN 'new'\n",
    "ELSE 'old'\n",
    "END VoteDate,\n",
    "COUNT(*) AS Total\n",
    "FROM Votes\n",
    "WHERE VoteTypeId=2\n",
    "GROUP BY PostId, VoteDate\n",
    ") AS VotesByAge\n",
    "GROUP BY VotesByAge.PostId\n",
    "HAVING NewVotes=0\n",
    ") AS VotesByAge2 ON VotesByAge2.PostId=Posts.ID\n",
    "WHERE Posts.PostTypeId=1\n",
    "ORDER BY VotesByAge2.OldVotes DESC\n",
    "LIMIT 10\"\"\", conn)"
   ]
  },
  {
   "cell_type": "markdown",
   "metadata": {},
   "source": [
    "-**Pandas**"
   ]
  },
  {
   "cell_type": "code",
   "execution_count": 469,
   "metadata": {},
   "outputs": [
    {
     "data": {
      "text/html": [
       "<div>\n",
       "<style scoped>\n",
       "    .dataframe tbody tr th:only-of-type {\n",
       "        vertical-align: middle;\n",
       "    }\n",
       "\n",
       "    .dataframe tbody tr th {\n",
       "        vertical-align: top;\n",
       "    }\n",
       "\n",
       "    .dataframe thead th {\n",
       "        text-align: right;\n",
       "    }\n",
       "</style>\n",
       "<table border=\"1\" class=\"dataframe\">\n",
       "  <thead>\n",
       "    <tr style=\"text-align: right;\">\n",
       "      <th></th>\n",
       "      <th>Title</th>\n",
       "      <th>OldVotes</th>\n",
       "    </tr>\n",
       "  </thead>\n",
       "  <tbody>\n",
       "    <tr>\n",
       "      <th>0</th>\n",
       "      <td>Which European cities have bike rental station...</td>\n",
       "      <td>39</td>\n",
       "    </tr>\n",
       "    <tr>\n",
       "      <th>1</th>\n",
       "      <td>Why do hostels require you to 'rent' bedding?</td>\n",
       "      <td>28</td>\n",
       "    </tr>\n",
       "    <tr>\n",
       "      <th>2</th>\n",
       "      <td>What to do with your valuables on a low-cost h...</td>\n",
       "      <td>25</td>\n",
       "    </tr>\n",
       "    <tr>\n",
       "      <th>3</th>\n",
       "      <td>Can't check-in to a hotel because I am 18</td>\n",
       "      <td>25</td>\n",
       "    </tr>\n",
       "    <tr>\n",
       "      <th>4</th>\n",
       "      <td>What are some good ways to find things to expl...</td>\n",
       "      <td>24</td>\n",
       "    </tr>\n",
       "    <tr>\n",
       "      <th>5</th>\n",
       "      <td>Alarm Clock without Noise? To wake up in commo...</td>\n",
       "      <td>24</td>\n",
       "    </tr>\n",
       "    <tr>\n",
       "      <th>6</th>\n",
       "      <td>What times of the year are best for visiting F...</td>\n",
       "      <td>23</td>\n",
       "    </tr>\n",
       "    <tr>\n",
       "      <th>7</th>\n",
       "      <td>What is the business model of commercial free ...</td>\n",
       "      <td>23</td>\n",
       "    </tr>\n",
       "    <tr>\n",
       "      <th>8</th>\n",
       "      <td>Getting work on a cruise ship in order to travel</td>\n",
       "      <td>23</td>\n",
       "    </tr>\n",
       "    <tr>\n",
       "      <th>9</th>\n",
       "      <td>Carrying medicines internationally for a friend</td>\n",
       "      <td>23</td>\n",
       "    </tr>\n",
       "  </tbody>\n",
       "</table>\n",
       "</div>"
      ],
      "text/plain": [
       "                                               Title  OldVotes\n",
       "0  Which European cities have bike rental station...        39\n",
       "1      Why do hostels require you to 'rent' bedding?        28\n",
       "2  What to do with your valuables on a low-cost h...        25\n",
       "3          Can't check-in to a hotel because I am 18        25\n",
       "4  What are some good ways to find things to expl...        24\n",
       "5  Alarm Clock without Noise? To wake up in commo...        24\n",
       "6  What times of the year are best for visiting F...        23\n",
       "7  What is the business model of commercial free ...        23\n",
       "8   Getting work on a cruise ship in order to travel        23\n",
       "9    Carrying medicines internationally for a friend        23"
      ]
     },
     "execution_count": 469,
     "metadata": {},
     "output_type": "execute_result"
    }
   ],
   "source": [
    "df1 = Votes.loc[Votes.VoteTypeId == 2]\n",
    "\n",
    "df1.CreationDate = df1.CreationDate.str[:4]\n",
    "\n",
    "df1.CreationDate = ['new' if e in ['2016','2017'] else 'old' for e in df1.CreationDate]\n",
    "df2 = df1.rename(columns = {'CreationDate':'VoteDate'})\n",
    "\n",
    "VotesByAge = df2.groupby(['PostId','VoteDate']).size().unstack(fill_value=0).stack().to_frame('Total').reset_index()\n",
    "\n",
    "#NewVotes = VotesByAge2[VotesByAge2.VoteDate == 'new'][['Total']]\n",
    "\n",
    "temp1 = VotesByAge.loc[VotesByAge.VoteDate == 'new'].groupby('PostId').Total.agg(max).to_frame(\n",
    "                                                                'NewVotes').reset_index()\n",
    "\n",
    "temp2 = VotesByAge.loc[VotesByAge.VoteDate == 'old'].groupby('PostId').Total.agg(max).to_frame(\n",
    "                                                                'OldVotes').reset_index()\n",
    "\n",
    "VotesByAge2 = pd.merge(temp1, temp2, on='PostId')\n",
    "VotesByAge2 = VotesByAge2.loc[VotesByAge2.NewVotes == 0]\n",
    "\n",
    "df3 = pd.merge(VotesByAge2, Posts , left_on = 'PostId', right_on = 'Id')\n",
    "\n",
    "df4 = df3.loc[df3.PostTypeId == 1][['Title', 'OldVotes']].sort_values('OldVotes', ascending = False).reset_index(\n",
    "                                    ).sort_values(['OldVotes','index'], ascending = [False, True])[[\n",
    "                                    'Title', 'OldVotes']].head(10).reset_index(drop=True)\n"
   ]
  },
  {
   "cell_type": "code",
   "execution_count": 471,
   "metadata": {},
   "outputs": [
    {
     "data": {
      "text/plain": [
       "True"
      ]
     },
     "execution_count": 471,
     "metadata": {},
     "output_type": "execute_result"
    }
   ],
   "source": [
    "df4.equals(df7_sql)"
   ]
  }
 ],
 "metadata": {
  "kernelspec": {
   "display_name": "Python 3",
   "language": "python",
   "name": "python3"
  },
  "language_info": {
   "codemirror_mode": {
    "name": "ipython",
    "version": 3
   },
   "file_extension": ".py",
   "mimetype": "text/x-python",
   "name": "python",
   "nbconvert_exporter": "python",
   "pygments_lexer": "ipython3",
   "version": "3.7.1"
  }
 },
 "nbformat": 4,
 "nbformat_minor": 2
}
